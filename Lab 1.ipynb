{
 "cells": [
  {
   "cell_type": "code",
   "execution_count": 6,
   "id": "55b77507",
   "metadata": {},
   "outputs": [
    {
     "name": "stdout",
     "output_type": "stream",
     "text": [
      "The number of elements whose count pairs are  2\n"
     ]
    }
   ],
   "source": [
    "#roll number ending with odd questions\n",
    "\n",
    "#Question 1 Count pairs of elements with sum equal to 10.\n",
    "\n",
    "\n",
    "def count_pairs(arr,sum):\n",
    "    count=0\n",
    "    n=len(arr)\n",
    "    \n",
    "    #Two loops used to find if the corresponding sum is equal to 10\n",
    "    \n",
    "    for i in range(n):\n",
    "        for j in range(i + 1, n):\n",
    "            if arr[i] + arr[j] == sum: \n",
    "                count += 1\n",
    "\n",
    "    return count\n",
    "\n",
    "#Main function\n",
    "\n",
    "arr=[2, 7, 4, 1, 3, 6] #pre-defined array in questions\n",
    "sum=10 #pre-defined sum\n",
    "\n",
    "print(\"The number of elements whose count pairs are \",count_pairs(arr,sum))"
   ]
  },
  {
   "cell_type": "code",
   "execution_count": 25,
   "id": "7669cd86",
   "metadata": {},
   "outputs": [
    {
     "name": "stdout",
     "output_type": "stream",
     "text": [
      "The range of the list is: 8\n"
     ]
    }
   ],
   "source": [
    "'''Question 2 takes a list of real numbers as input and returns the range \n",
    "(difference between minimum and maximum) \n",
    "of the list. Check for list being less than 3 elements in which \n",
    "case return an error message (Ex: “Range determination not possible”).'''\n",
    "\n",
    "def find_range(numbers):\n",
    "    if len(numbers) < 3:\n",
    "        #Less than 3 condition\n",
    "        return \"Range determination not possible\"\n",
    "    #To find the max and min of numbers\n",
    "    return max(numbers) - min(numbers)\n",
    "\n",
    "\n",
    "#Main Function\n",
    "    # Example list of numbers\n",
    "numbers = [5, 3, 8, 1, 0, 4]\n",
    "    \n",
    "    # Find the range of the list\n",
    "result = find_range(numbers)\n",
    "    \n",
    "    # Print the result\n",
    "print(\"The range of the list is:\", result)\n",
    "\n"
   ]
  },
  {
   "cell_type": "code",
   "execution_count": 27,
   "id": "c82c6305",
   "metadata": {},
   "outputs": [
    {
     "name": "stdout",
     "output_type": "stream",
     "text": [
      "Enter the size of the matrix (n x n): 2\n",
      "Enter the elements of the matrix row by row:\n",
      "1 2\n",
      "3 4\n",
      "Enter the power m: 4\n",
      "The result of A^m is:\n",
      "[[199 290]\n",
      " [435 634]]\n"
     ]
    }
   ],
   "source": [
    "\"\"\" Question 3 Write a program that accepts a square matrix A and a positive integer m as arguments and\n",
    "returns Am.\"\"\"\n",
    "\n",
    "import numpy as np\n",
    "\n",
    "def matrix_power(A, m):\n",
    "    # Ensure the input matrix is a numpy array\n",
    "    A = np.array(A)\n",
    "    \n",
    "    # Check if the matrix is square or not\n",
    "    if A.shape[0] != A.shape[1]:\n",
    "        return \"The matrix must be square.\"\n",
    "\n",
    "    # Calculate A^m using numpy's matrix power function\n",
    "    result = np.linalg.matrix_power(A, m)\n",
    "    \n",
    "    return result\n",
    "\n",
    "def main():\n",
    "    # User defined input\n",
    "    n = int(input(\"Enter the size of the matrix (n x n): \"))\n",
    "\n",
    "    A = []\n",
    "\n",
    "    # Get matrix values from user\n",
    "    print(\"Enter the elements of the matrix row by row:\")\n",
    "    for i in range(n):\n",
    "        #to read the values by removing whitespace\n",
    "        row = list(map(int, input().split()))\n",
    "        A.append(row)\n",
    "\n",
    "    # Get the power m from user\n",
    "    m = int(input(\"Enter the power m: \"))\n",
    "\n",
    "    # Calculate A^m\n",
    "    result = matrix_power(A, m)\n",
    "    \n",
    "    # Print the result\n",
    "    print(\"The result of A^m is:\")\n",
    "    print(result)\n",
    "\n",
    "# Call the main function\n",
    "main()\n"
   ]
  },
  {
   "cell_type": "code",
   "execution_count": 29,
   "id": "8e7abcf5",
   "metadata": {},
   "outputs": [
    {
     "name": "stdout",
     "output_type": "stream",
     "text": [
      "Max occurring character is: 'p' with count 3\n"
     ]
    }
   ],
   "source": [
    "\"\"\"Question 4 Write a program to count the highest occurring character & its occurrence count in an input\n",
    "string. Consider only alphabets.\"\"\"\n",
    "def getMaxOccurringChar(s):\n",
    "    # Create a dictionary to store frequency of each character\n",
    "    mp = {}\n",
    "    \n",
    "    # Length of string\n",
    "    n = len(s)\n",
    "    \n",
    "    # For answer\n",
    "    ans = ''\n",
    "    \n",
    "    # To check the count of the answer character is less or greater than another element's count\n",
    "    cnt = 0\n",
    "    \n",
    "    # Traverse the string\n",
    "    for i in range(n):\n",
    "        # Push element into dictionary and increase its frequency\n",
    "        if s[i] in mp:\n",
    "            mp[s[i]] += 1\n",
    "        else:\n",
    "            mp[s[i]] = 1\n",
    "        \n",
    "        # Update answer and count\n",
    "        if cnt < mp[s[i]]:\n",
    "            ans = s[i]\n",
    "            cnt = mp[s[i]]\n",
    "    \n",
    "    return ans, cnt\n",
    "\n",
    "# Example usage\n",
    "s = \"hippopotamus\"\n",
    "char, count = getMaxOccurringChar(s)\n",
    "print(f\"Max occurring character is: '{char}' with count {count}\")\n"
   ]
  }
 ],
 "metadata": {
  "kernelspec": {
   "display_name": "Python 3 (ipykernel)",
   "language": "python",
   "name": "python3"
  },
  "language_info": {
   "codemirror_mode": {
    "name": "ipython",
    "version": 3
   },
   "file_extension": ".py",
   "mimetype": "text/x-python",
   "name": "python",
   "nbconvert_exporter": "python",
   "pygments_lexer": "ipython3",
   "version": "3.11.5"
  }
 },
 "nbformat": 4,
 "nbformat_minor": 5
}
